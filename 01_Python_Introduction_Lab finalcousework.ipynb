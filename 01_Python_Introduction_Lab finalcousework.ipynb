{
 "cells": [
  {
   "cell_type": "markdown",
   "id": "03c4ee7c-8b1c-4ff8-9638-6e45f4802bb5",
   "metadata": {},
   "source": [
    "### Introduction to Python\n",
    "#### Date: Sep 06,2023\n",
    "#### Submission must be made through Github\n",
    "You are required to complete all tasks correctly (or almost correctly) . You are free to use any material (lecture, Stackoverflow etc.) except full solutions but you should first try to figure them out on your own. We use an nbgrader for partially autograding the assignments. Please DO NOT delete or copy cells. You can add new cells but your solutions should go into the designated cells. "
   ]
  },
  {
   "cell_type": "markdown",
   "id": "79ceb440-0a4a-4cfe-92a8-d8d2d410e1e1",
   "metadata": {},
   "source": [
    "`range()` practice"
   ]
  },
  {
   "cell_type": "markdown",
   "id": "a56105d9-2e08-49de-bf42-4ed89f531dca",
   "metadata": {},
   "source": [
    "1 . Print the numbers between 60 and 69 inclusive."
   ]
  },
  {
   "cell_type": "code",
   "execution_count": 3,
   "id": "9672a3e9-7f15-4956-b6e4-669b03a88cc0",
   "metadata": {
    "ExecuteTime": {
     "end_time": "2023-09-12T06:51:38.968291600Z",
     "start_time": "2023-09-12T06:51:38.947313200Z"
    }
   },
   "outputs": [
    {
     "name": "stdout",
     "output_type": "stream",
     "text": [
      "60\n",
      "61\n",
      "62\n",
      "63\n",
      "64\n",
      "65\n",
      "66\n",
      "67\n",
      "68\n",
      "69\n"
     ]
    }
   ],
   "source": [
    "for num in range (60,70):\n",
    "     print(num)\n",
    "#raise NotImplementedError()"
   ]
  },
  {
   "cell_type": "markdown",
   "id": "b74e0b6f-b2e2-4b93-a13f-73a3304171d4",
   "metadata": {},
   "source": [
    "2 . Read numbers until 0 and print their mean and standard deviation without using a list."
   ]
  },
  {
   "cell_type": "code",
   "execution_count": 7,
   "id": "57c6caad-8250-4346-ada9-418b1fb7e5c8",
   "metadata": {
    "ExecuteTime": {
     "end_time": "2023-09-13T05:57:38.706416500Z",
     "start_time": "2023-09-13T05:57:29.043236800Z"
    }
   },
   "outputs": [
    {
     "name": "stdout",
     "output_type": "stream",
     "text": [
      "Mean: 3.0\n",
      "Standard Deviation: 2.1602468994692865\n"
     ]
    }
   ],
   "source": [
    "# Read a number from a user\n",
    "sum_of_sqaures = 0\n",
    "total = 0\n",
    "counter = 0\n",
    "while (True):\n",
    "    number = float(input(\"Enter a number: \"))\n",
    "    if number == 0:\n",
    "        break\n",
    "    sum_of_sqaures += (number ** 2)\n",
    "    total = total + number\n",
    "    counter = counter + 1\n",
    "    \n",
    "mean = total / counter\n",
    "print(\"Mean: \" + str(mean))\n",
    "\n",
    "std = ((sum_of_sqaures/counter) - mean**2)**(1/2)\n",
    "print(\"Standard Deviation: \" + str(std))\n",
    "#raise NotImplementedError()"
   ]
  },
  {
   "cell_type": "markdown",
   "id": "43d383f5-1f59-47fd-99a5-938bf2c2e937",
   "metadata": {},
   "source": [
    "##### Lists\n",
    "3 . Print the odd numbers from this list. `l = [2, 3, -2, -7, 0, 2, 3]`"
   ]
  },
  {
   "cell_type": "code",
   "execution_count": 5,
   "id": "8423d0f0-c4a6-4ac0-9100-523c8e8b9dff",
   "metadata": {
    "ExecuteTime": {
     "end_time": "2023-09-13T05:57:08.989145200Z",
     "start_time": "2023-09-13T05:57:08.875084900Z"
    }
   },
   "outputs": [
    {
     "name": "stdout",
     "output_type": "stream",
     "text": [
      "3\n",
      "-7\n",
      "3\n"
     ]
    }
   ],
   "source": [
    "l=[2,3,-2,-7,0,2,3]\n",
    "for num in l:\n",
    "   if num % 2 !=0:\n",
    "       print(num)\n",
    "#raise NotImplementedError()"
   ]
  },
  {
   "cell_type": "markdown",
   "id": "ba8c7678-f149-46fd-a59c-1740c6b31662",
   "metadata": {},
   "source": [
    "##### Functions\n",
    "4 . Write a function that takes an integer parameter `(N)` and returns a list of the first `N` prime numbers starting from 2."
   ]
  },
  {
   "cell_type": "code",
   "execution_count": 8,
   "id": "c11489ad-16c8-458e-bb07-6269fdc0ac67",
   "metadata": {
    "ExecuteTime": {
     "end_time": "2023-09-13T08:29:20.816096200Z",
     "start_time": "2023-09-13T08:29:20.562635400Z"
    }
   },
   "outputs": [
    {
     "name": "stdout",
     "output_type": "stream",
     "text": [
      "[2, 3, 5, 7, 11, 13, 17, 19, 23, 29]\n"
     ]
    }
   ],
   "source": [
    "# YOUR CODE HERE\n",
    "def is_prime(num):\n",
    "    if num <= 1:\n",
    "        return False\n",
    "    if num == 2:\n",
    "        return True\n",
    "    if num % 2 == 0:\n",
    "        return False\n",
    "    for i in range(3, int(num**0.5) + 1, 2):\n",
    "        if num % i == 0:\n",
    "            return False\n",
    "    return True\n",
    "\n",
    "def get_n_primes(N):\n",
    "    primes = []\n",
    "    num = 2\n",
    "    while len(primes) < N:\n",
    "        if is_prime(num):\n",
    "            primes.append(num)\n",
    "        num += 1\n",
    "    return primes\n",
    "\n",
    "\n",
    "N = 10  # Change N to the number of primes you want\n",
    "prime_list = get_n_primes(N)\n",
    "print(prime_list)\n",
    "\n",
    "\n",
    "#raise NotImplementedError()"
   ]
  },
  {
   "cell_type": "code",
   "execution_count": 9,
   "id": "0349ebb9-189e-437b-a3f0-8ed95de70b67",
   "metadata": {
    "ExecuteTime": {
     "end_time": "2023-09-13T08:29:26.193212800Z",
     "start_time": "2023-09-13T08:29:26.181217100Z"
    }
   },
   "outputs": [],
   "source": [
    "assert(get_n_primes(3) == [2, 3, 5])\n",
    "assert(get_n_primes(0) == [])"
   ]
  },
  {
   "cell_type": "markdown",
   "id": "faa7415c-d5d9-4248-95d2-588b6919c59c",
   "metadata": {},
   "source": [
    "5. Write a function that takes an integer parameter (N) and returns the Nth Fibonacci number.\n",
    "\n",
    " The Fibonacci series is defined as:\n",
    "\n",
    "$$\n",
    "F_n = F_{n-1} + F_{n-2} \\text{ for } n>1\\\\\n",
    "F_0 = 0\\\\\n",
    "F_1 = 1\n",
    "$$\n",
    "\n",
    "The first few elements of the Fibonacci series are 0, 1, 1, 2, 3, 5, 8, 13 etc.\n",
    "\n",
    "Raise a `ValueError` if $N<0$.\n"
   ]
  },
  {
   "cell_type": "code",
   "execution_count": 18,
   "id": "2cdba1a3-855c-483f-a5b0-eba31d98c186",
   "metadata": {
    "ExecuteTime": {
     "end_time": "2023-09-13T09:36:50.733636400Z",
     "start_time": "2023-09-13T09:36:50.711664600Z"
    }
   },
   "outputs": [
    {
     "name": "stdout",
     "output_type": "stream",
     "text": [
      "The 5-th Fibonacci number is: 5\n"
     ]
    }
   ],
   "source": [
    "# YOUR CODE HERE\n",
    "def get_nth_fibonacci(N):\n",
    "    if N < 0:\n",
    "        raise ValueError(\"N must be a non-negative integer\")\n",
    "    if N == 0:\n",
    "        return 0\n",
    "    elif N == 1:\n",
    "        return 1\n",
    "    else:\n",
    "        # Initialize a list to store Fibonacci numbers up to N\n",
    "        fib_list = [0] * (N + 1)\n",
    "        fib_list[0] = 0\n",
    "        fib_list[1] = 1\n",
    "\n",
    "        # Calculate Fibonacci numbers using a loop and memoization\n",
    "        for i in range(2, N + 1):\n",
    "            fib_list[i] = fib_list[i - 1] + fib_list[i - 2]\n",
    "\n",
    "        return fib_list[N]\n",
    "\n",
    "# Example usage:\n",
    "N = 5\n",
    "result = get_nth_fibonacci(N)\n",
    "print(f\"The {N}-th Fibonacci number is: {result}\")"
   ]
  },
  {
   "cell_type": "code",
   "execution_count": 19,
   "id": "d6b671a5-1c06-4f25-889e-599d5dedc9ae",
   "metadata": {
    "ExecuteTime": {
     "end_time": "2023-09-13T09:36:56.814986200Z",
     "start_time": "2023-09-13T09:36:56.786155300Z"
    }
   },
   "outputs": [],
   "source": [
    "assert(get_nth_fibonacci(0) == 0)\n",
    "assert(get_nth_fibonacci(1) == 1)\n",
    "assert(get_nth_fibonacci(2) == 1)\n",
    "assert(get_nth_fibonacci(5) == 5)\n",
    "assert(get_nth_fibonacci(7) == 13)\n",
    "\n",
    "try:\n",
    "    get_nth_fibonacci(-2)\n",
    "except ValueError:\n",
    "    pass\n",
    "else:\n",
    "    AssertionError(\"TEST FAILS. Negative index should raise a ValueError.\")"
   ]
  },
  {
   "cell_type": "markdown",
   "id": "fc2960b4-e2b4-4e98-9284-9acb6e682182",
   "metadata": {},
   "source": [
    "6 . Create a function that take a list and a predicate (function with boolean return value) as parameters and returns a new list of those elements which the predicate return True. A predicate is a function that takes one element and return `True` or `False`, for example `is_even`, `is_prime`. If you implemented The following tests should run.\n"
   ]
  },
  {
   "cell_type": "code",
   "execution_count": 20,
   "id": "a5bbd70f-1ba6-4a46-8b14-bc8b82da1a18",
   "metadata": {
    "ExecuteTime": {
     "end_time": "2023-09-13T10:25:57.608979400Z",
     "start_time": "2023-09-13T10:25:57.564516500Z"
    }
   },
   "outputs": [
    {
     "name": "stdout",
     "output_type": "stream",
     "text": [
      "Odd numbers: [1, 3, 19, 35, 11]\n",
      "Prime numbers: [2, 3, 19, 11]\n"
     ]
    }
   ],
   "source": [
    "# YOUR CODE HERE\n",
    "def filter_list(lst, predicate):\n",
    "    return [item for item in lst if predicate(item)]\n",
    "\n",
    "#  predicates\n",
    "def is_odd(num):\n",
    "    return num % 2 != 0\n",
    "\n",
    "def is_prime(num):\n",
    "    \n",
    "    if num < 2:\n",
    "        return False\n",
    "    for i in range(2, int(num**0.5) + 1):\n",
    "        if num % i == 0:\n",
    "            return False\n",
    "    return True\n",
    "\n",
    "# Tests\n",
    "l1 = [1, 2, 3, 4, 19,35,11]\n",
    "\n",
    "# Test  is_odd predicate\n",
    "odd_numbers = filter_list(l1, is_odd)\n",
    "print(\"Odd numbers:\", odd_numbers)\n",
    "\n",
    "# Test with is_prime predicate\n",
    "prime_numbers = filter_list(l1, is_prime)\n",
    "print(\"Prime numbers:\", prime_numbers)\n",
    "\n",
    "#raise NotImplementedError()"
   ]
  },
  {
   "cell_type": "code",
   "execution_count": 21,
   "id": "a2622238-54c7-4561-b6e6-52020207940f",
   "metadata": {
    "ExecuteTime": {
     "end_time": "2023-09-13T10:26:02.773694700Z",
     "start_time": "2023-09-13T10:26:02.762691200Z"
    }
   },
   "outputs": [],
   "source": [
    "l1 = [1, 2, 3, 4, 19, 35, 11]\n",
    "l2 = [1, 4, 9, 16, 25]\n",
    "assert(filter_list(l1, is_odd) == [1, 3, 19, 35, 11])\n",
    "assert(filter_list(l1, is_prime) == [2, 3, 19, 11])\n",
    "assert(filter_list(l2, is_prime) == [])"
   ]
  },
  {
   "cell_type": "markdown",
   "id": "11b4614e-75b6-4735-bbb3-54899d386014",
   "metadata": {},
   "source": [
    "7.  Reduce is a function that applies a two argument function against an accumulator and each element in the sequence (from left to right) to reduce it to a single value. If no initial value is provided, the accumulator is initialized with the return value of the function run on the first two elements of the sequence.\n",
    "\n",
    "```\n",
    "reduce([1, 2, 3], product) ---> 6\n",
    "reduce([1, 2, 3], product, accumulator=10) ---> 60\n",
    "reduce([\"foo\", \"bar\"], string_addition) ---> \"foobar\"\n",
    "reduce([\"foo\", \"bar\"], string_addition, accumulator=\"hello\") ---> \"hellofoobar\"\n",
    "```"
   ]
  },
  {
   "cell_type": "code",
   "execution_count": 29,
   "id": "8101a46d-4eb0-46ee-951d-ad3a32619d84",
   "metadata": {
    "ExecuteTime": {
     "end_time": "2023-09-13T13:32:21.582949400Z",
     "start_time": "2023-09-13T13:32:21.569954200Z"
    }
   },
   "outputs": [
    {
     "name": "stdout",
     "output_type": "stream",
     "text": [
      "Sum of numbers: 7\n"
     ]
    }
   ],
   "source": [
    "# YOUR CODE HERE\n",
    "from functools import reduce\n",
    "# Define function add\n",
    "def add(x, y):\n",
    "    return x + y\n",
    "\n",
    "# list of numbers\n",
    "l1= [1, 2, -1,5]\n",
    "l2 = [\"foo\", \"bar\", \"hello\"]\n",
    "\n",
    "# Using reduce to sum the numbers\n",
    "result =(reduce(l1, add))\n",
    "print(\"Sum of numbers:\", result)\n",
    "#raise NotImplementedError()\n"
   ]
  },
  {
   "cell_type": "code",
   "execution_count": 43,
   "id": "06afdae8-d4b5-4a65-85ab-bd469456caed",
   "metadata": {
    "ExecuteTime": {
     "end_time": "2023-09-13T20:09:07.640534500Z",
     "start_time": "2023-09-13T20:09:07.600644400Z"
    }
   },
   "outputs": [
    {
     "ename": "TypeError",
     "evalue": "reduce() arg 2 must support iteration",
     "output_type": "error",
     "traceback": [
      "\u001B[1;31m---------------------------------------------------------------------------\u001B[0m",
      "\u001B[1;31mTypeError\u001B[0m                                 Traceback (most recent call last)",
      "\u001B[1;32m<ipython-input-43-6753d3f6b426>\u001B[0m in \u001B[0;36m<module>\u001B[1;34m\u001B[0m\n\u001B[0;32m      1\u001B[0m \u001B[0ml1\u001B[0m \u001B[1;33m=\u001B[0m \u001B[1;33m[\u001B[0m\u001B[1;36m1\u001B[0m\u001B[1;33m,\u001B[0m \u001B[1;36m2\u001B[0m\u001B[1;33m,\u001B[0m \u001B[1;33m-\u001B[0m\u001B[1;36m1\u001B[0m\u001B[1;33m,\u001B[0m \u001B[1;36m5\u001B[0m\u001B[1;33m]\u001B[0m\u001B[1;33m\u001B[0m\u001B[1;33m\u001B[0m\u001B[0m\n\u001B[0;32m      2\u001B[0m \u001B[0ml2\u001B[0m \u001B[1;33m=\u001B[0m \u001B[1;33m[\u001B[0m\u001B[1;34m\"foo\"\u001B[0m\u001B[1;33m,\u001B[0m \u001B[1;34m\"bar\"\u001B[0m\u001B[1;33m,\u001B[0m \u001B[1;34m\"hello\"\u001B[0m\u001B[1;33m]\u001B[0m\u001B[1;33m\u001B[0m\u001B[1;33m\u001B[0m\u001B[0m\n\u001B[1;32m----> 3\u001B[1;33m \u001B[1;32massert\u001B[0m\u001B[1;33m(\u001B[0m\u001B[0mreduce\u001B[0m\u001B[1;33m(\u001B[0m\u001B[0ml1\u001B[0m\u001B[1;33m,\u001B[0m \u001B[0madd\u001B[0m\u001B[1;33m)\u001B[0m \u001B[1;33m==\u001B[0m \u001B[1;36m7\u001B[0m\u001B[1;33m)\u001B[0m\u001B[1;33m\u001B[0m\u001B[1;33m\u001B[0m\u001B[0m\n\u001B[0m\u001B[0;32m      4\u001B[0m \u001B[1;32massert\u001B[0m\u001B[1;33m(\u001B[0m\u001B[0mreduce\u001B[0m\u001B[1;33m(\u001B[0m\u001B[0ml1\u001B[0m\u001B[1;33m,\u001B[0m \u001B[0madd\u001B[0m\u001B[1;33m,\u001B[0m \u001B[1;36m10\u001B[0m\u001B[1;33m)\u001B[0m \u001B[1;33m==\u001B[0m \u001B[1;36m17\u001B[0m\u001B[1;33m)\u001B[0m\u001B[1;33m\u001B[0m\u001B[1;33m\u001B[0m\u001B[0m\n\u001B[0;32m      5\u001B[0m \u001B[1;32massert\u001B[0m\u001B[1;33m(\u001B[0m\u001B[0mreduce\u001B[0m\u001B[1;33m(\u001B[0m\u001B[0ml2\u001B[0m\u001B[1;33m,\u001B[0m \u001B[0mstring_len_add\u001B[0m\u001B[1;33m,\u001B[0m \u001B[1;36m0\u001B[0m\u001B[1;33m)\u001B[0m \u001B[1;33m==\u001B[0m \u001B[1;36m11\u001B[0m\u001B[1;33m)\u001B[0m\u001B[1;33m\u001B[0m\u001B[1;33m\u001B[0m\u001B[0m\n",
      "\u001B[1;31mTypeError\u001B[0m: reduce() arg 2 must support iteration"
     ]
    }
   ],
   "source": [
    "l1 = [1, 2, -1, 5]\n",
    "l2 = [\"foo\", \"bar\", \"hello\"]\n",
    "assert(reduce(l1, add) == 7)\n",
    "assert(reduce(l1, add, 10) == 17)\n",
    "assert(reduce(l2, string_len_add, 0) == 11)"
   ]
  },
  {
   "cell_type": "markdown",
   "id": "d5057830-6794-4d2d-ac06-02b44b852186",
   "metadata": {},
   "source": [
    "8. Use your reduce function for the following operations:\n",
    "\n",
    "##### a. count the number of odd elements in a list of integers,\n",
    "##### b. find the maximum of a list of integers,\n",
    "##### c. find the longest string in list of strings.\n",
    "\n",
    "``` Test your solutions. ```"
   ]
  },
  {
   "cell_type": "code",
   "execution_count": 23,
   "id": "dbb28576-5abb-4b90-8e9f-c4bfcaffc3b7",
   "metadata": {
    "ExecuteTime": {
     "end_time": "2023-09-13T12:23:40.063941Z",
     "start_time": "2023-09-13T12:23:40.049944600Z"
    }
   },
   "outputs": [
    {
     "name": "stdout",
     "output_type": "stream",
     "text": [
      "Count of odd elements: 3\n"
     ]
    }
   ],
   "source": [
    "# YOUR CODE HERE\n",
    "from functools import reduce\n",
    "def count_odd(x, y):\n",
    "    return x + (y%2 ==1)\n",
    "l1=[1, 2, -1, 5]\n",
    "# Use reduce to count odd elements\n",
    "count = reduce(count_odd, l1, 0)  # Start with an accumulator of 0\n",
    "print(\"Count of odd elements:\", count)\n",
    "\n",
    "#raise NotImplementedError()"
   ]
  },
  {
   "cell_type": "code",
   "execution_count": 24,
   "id": "af799981-375d-4c42-8dc1-83908ed0e8a4",
   "metadata": {
    "ExecuteTime": {
     "end_time": "2023-09-13T12:24:48.122511900Z",
     "start_time": "2023-09-13T12:24:48.106949300Z"
    }
   },
   "outputs": [
    {
     "name": "stdout",
     "output_type": "stream",
     "text": [
      "maximun value 5\n"
     ]
    }
   ],
   "source": [
    "# YOUR CODE HERE\n",
    "from functools import reduce\n",
    "#define max function\n",
    "def find_max(acc,element):\n",
    "    return max(acc,element)\n",
    "# list with integers\n",
    "l1=[1, 2, -1, 5]\n",
    "maximum=reduce(find_max,l1)\n",
    "print(\"maximun value\",maximum)\n",
    "#raise NotImplementedError()"
   ]
  },
  {
   "cell_type": "code",
   "execution_count": 25,
   "outputs": [
    {
     "name": "stdout",
     "output_type": "stream",
     "text": [
      "longest string is  hello\n"
     ]
    }
   ],
   "source": [
    "# YOUR CODE HERE\n",
    "from functools import  reduce\n",
    "#define function\n",
    "def longest_string(acc,element):\n",
    "    return element if len(element)>len(acc) else acc\n",
    "#list of strings\n",
    "l2 = [\"foo\", \"bar\", \"hello\"]\n",
    "#use reduce to find longest string\n",
    "longest_string=reduce(longest_string,l2)\n",
    "print(\"longest string is \",longest_string)\n",
    "#raise NotImplementedError()"
   ],
   "metadata": {
    "collapsed": false,
    "ExecuteTime": {
     "end_time": "2023-09-13T12:25:32.447605200Z",
     "start_time": "2023-09-13T12:25:32.387009500Z"
    }
   },
   "id": "bd07408c107b1846"
  },
  {
   "cell_type": "markdown",
   "id": "3c077854-065c-4c34-9def-93b57b32e9db",
   "metadata": {},
   "source": [
    "9. Create a function that takes a matrix of size NxM and returns the pairwise L2 distance of each row pair.\n",
    "\n",
    "For input $A^{N \\times M}$, the output should be $D^{N \\times N}$ where: $D_{i,j} = L_2 (A_i, A_j)$"
   ]
  },
  {
   "cell_type": "code",
   "execution_count": 56,
   "id": "b987aeec-458a-4ae7-b203-59334bdb725e",
   "metadata": {
    "ExecuteTime": {
     "end_time": "2023-09-13T20:44:03.872305400Z",
     "start_time": "2023-09-13T20:44:03.833301700Z"
    }
   },
   "outputs": [
    {
     "ename": "ModuleNotFoundError",
     "evalue": "No module named 'numpy'",
     "output_type": "error",
     "traceback": [
      "\u001B[1;31m---------------------------------------------------------------------------\u001B[0m",
      "\u001B[1;31mModuleNotFoundError\u001B[0m                       Traceback (most recent call last)",
      "\u001B[1;32m<ipython-input-56-37663fa94e79>\u001B[0m in \u001B[0;36m<module>\u001B[1;34m\u001B[0m\n\u001B[1;32m----> 1\u001B[1;33m \u001B[1;32mimport\u001B[0m \u001B[0mnumpy\u001B[0m \u001B[1;32mas\u001B[0m \u001B[0mnp\u001B[0m\u001B[1;33m\u001B[0m\u001B[1;33m\u001B[0m\u001B[0m\n\u001B[0m\u001B[0;32m      2\u001B[0m \u001B[1;32mdef\u001B[0m \u001B[0mpairwise_L2_distance\u001B[0m\u001B[1;33m(\u001B[0m\u001B[0mmatrix\u001B[0m\u001B[1;33m)\u001B[0m\u001B[1;33m:\u001B[0m\u001B[1;33m\u001B[0m\u001B[1;33m\u001B[0m\u001B[0m\n\u001B[0;32m      3\u001B[0m     \u001B[1;31m# Calculate the pairwise L2 distances\u001B[0m\u001B[1;33m\u001B[0m\u001B[1;33m\u001B[0m\u001B[1;33m\u001B[0m\u001B[0m\n\u001B[0;32m      4\u001B[0m     \u001B[0mnum_rows\u001B[0m \u001B[1;33m=\u001B[0m \u001B[0mmatrix\u001B[0m\u001B[1;33m.\u001B[0m\u001B[0mshape\u001B[0m\u001B[1;33m[\u001B[0m\u001B[1;36m0\u001B[0m\u001B[1;33m]\u001B[0m\u001B[1;33m\u001B[0m\u001B[1;33m\u001B[0m\u001B[0m\n\u001B[0;32m      5\u001B[0m     \u001B[0mdistances\u001B[0m \u001B[1;33m=\u001B[0m \u001B[0mnp\u001B[0m\u001B[1;33m.\u001B[0m\u001B[0mzeros\u001B[0m\u001B[1;33m(\u001B[0m\u001B[1;33m(\u001B[0m\u001B[0mnum_rows\u001B[0m\u001B[1;33m,\u001B[0m \u001B[0mnum_rows\u001B[0m\u001B[1;33m)\u001B[0m\u001B[1;33m)\u001B[0m\u001B[1;33m\u001B[0m\u001B[1;33m\u001B[0m\u001B[0m\n",
      "\u001B[1;31mModuleNotFoundError\u001B[0m: No module named 'numpy'"
     ]
    }
   ],
   "source": [
    "import numpy as np\n",
    "def pairwise_L2_distance(matrix):\n",
    "    # Calculate the pairwise L2 distances\n",
    "    num_rows = matrix.shape[0]\n",
    "    distances = np.zeros((num_rows, num_rows))\n",
    "\n",
    "    for i in range(num_rows):\n",
    "        for j in range(num_rows):\n",
    "            distances[i, j] = np.linalg.norm(matrix[i] - matrix[j])\n",
    "\n",
    "    return distances\n",
    "\n",
    "# Example usage:\n",
    "matrix = np.array([[1, 2, 3],\n",
    "                   [4, 5, 6],\n",
    "                   [7, 8, 9]])\n",
    "\n",
    "distances = pairwise_L2_distance(matrix)\n",
    "print(distances)\n",
    "\n",
    "#raise NotImplementedError()"
   ]
  },
  {
   "cell_type": "code",
   "execution_count": 34,
   "id": "a8a40461-7af8-41f7-96f2-729f69c62ab8",
   "metadata": {
    "ExecuteTime": {
     "end_time": "2023-09-13T17:07:03.065234600Z",
     "start_time": "2023-09-13T17:07:03.015365800Z"
    }
   },
   "outputs": [
    {
     "ename": "NameError",
     "evalue": "name 'pairwise_row_distance' is not defined",
     "output_type": "error",
     "traceback": [
      "\u001B[1;31m---------------------------------------------------------------------------\u001B[0m",
      "\u001B[1;31mNameError\u001B[0m                                 Traceback (most recent call last)",
      "\u001B[1;32m<ipython-input-34-0bc3e1667c60>\u001B[0m in \u001B[0;36m<module>\u001B[1;34m\u001B[0m\n\u001B[1;32m----> 1\u001B[1;33m \u001B[0mD\u001B[0m \u001B[1;33m=\u001B[0m \u001B[0mpairwise_row_distance\u001B[0m\u001B[1;33m(\u001B[0m\u001B[1;33m[\u001B[0m\u001B[1;33m[\u001B[0m\u001B[1;36m1\u001B[0m\u001B[1;33m,\u001B[0m \u001B[1;36m0\u001B[0m\u001B[1;33m,\u001B[0m \u001B[1;36m2\u001B[0m\u001B[1;33m]\u001B[0m\u001B[1;33m,\u001B[0m \u001B[1;33m[\u001B[0m\u001B[1;36m0\u001B[0m\u001B[1;33m,\u001B[0m \u001B[1;36m2\u001B[0m\u001B[1;33m,\u001B[0m \u001B[1;36m1\u001B[0m\u001B[1;33m]\u001B[0m\u001B[1;33m]\u001B[0m\u001B[1;33m)\u001B[0m\u001B[1;33m\u001B[0m\u001B[1;33m\u001B[0m\u001B[0m\n\u001B[0m\u001B[0;32m      2\u001B[0m \u001B[1;31m# should be a matrix\u001B[0m\u001B[1;33m\u001B[0m\u001B[1;33m\u001B[0m\u001B[1;33m\u001B[0m\u001B[0m\n\u001B[0;32m      3\u001B[0m \u001B[1;32massert\u001B[0m \u001B[0mis_matrix\u001B[0m\u001B[1;33m(\u001B[0m\u001B[0mD\u001B[0m\u001B[1;33m)\u001B[0m \u001B[1;33m==\u001B[0m \u001B[1;32mTrue\u001B[0m\u001B[1;33m\u001B[0m\u001B[1;33m\u001B[0m\u001B[0m\n\u001B[0;32m      4\u001B[0m \u001B[1;32massert\u001B[0m \u001B[0mlen\u001B[0m\u001B[1;33m(\u001B[0m\u001B[0mD\u001B[0m\u001B[1;33m)\u001B[0m \u001B[1;33m==\u001B[0m \u001B[1;36m2\u001B[0m\u001B[1;33m\u001B[0m\u001B[1;33m\u001B[0m\u001B[0m\n\u001B[0;32m      5\u001B[0m \u001B[1;32massert\u001B[0m \u001B[0mlen\u001B[0m\u001B[1;33m(\u001B[0m\u001B[0mD\u001B[0m\u001B[1;33m[\u001B[0m\u001B[1;36m0\u001B[0m\u001B[1;33m]\u001B[0m\u001B[1;33m)\u001B[0m \u001B[1;33m==\u001B[0m \u001B[1;36m2\u001B[0m\u001B[1;33m\u001B[0m\u001B[1;33m\u001B[0m\u001B[0m\n",
      "\u001B[1;31mNameError\u001B[0m: name 'pairwise_row_distance' is not defined"
     ]
    }
   ],
   "source": [
    "D = pairwise_row_distance([[1, 0, 2], [0, 2, 1]])\n",
    "# should be a matrix\n",
    "assert is_matrix(D) == True\n",
    "assert len(D) == 2\n",
    "assert len(D[0]) == 2\n",
    "assert D[0][0] == 0\n",
    "assert abs(D[0][1] - 2.449489742783178) < 1e-3\n",
    "assert abs(D[1][0] - 2.449489742783178) < 1e-3\n",
    "assert D[1][1] == 0\n",
    "\n",
    "# should be symmetric\n",
    "assert transpose(D) == D"
   ]
  },
  {
   "cell_type": "markdown",
   "id": "211444ab-c1e5-47cf-86d1-ca72d009b7d1",
   "metadata": {},
   "source": [
    "10 . Object Oriented Programming\n",
    " Define a class named `A` with a 'constructor' that takes a single parameter and stores it in an attribute named `value`. Add a `print_value` method to the class. Instantiate the class and call the `print_value` method."
   ]
  },
  {
   "cell_type": "code",
   "execution_count": 36,
   "id": "86213a2e-3268-45aa-90cc-151c8ef4417f",
   "metadata": {
    "ExecuteTime": {
     "end_time": "2023-09-13T19:38:25.676252200Z",
     "start_time": "2023-09-13T19:38:25.617409900Z"
    }
   },
   "outputs": [
    {
     "name": "stdout",
     "output_type": "stream",
     "text": [
      "The value is: 5\n"
     ]
    }
   ],
   "source": [
    "# YOUR CODE HERE\n",
    "class A:\n",
    "    def __init__(self, value):\n",
    "        self.value = value\n",
    "\n",
    "    def print_value(self):\n",
    "        print(\"The value is:\", self.value)\n",
    "\n",
    "# Instantiate the class and call the print_value method\n",
    "obj = A(5)  # Creating an instance of class A with the value 42\n",
    "obj.print_value()  # Calling the print_value method on the instance\n",
    "#raise NotImplementedError()"
   ]
  },
  {
   "cell_type": "code",
   "execution_count": null,
   "id": "70769d9e-d21e-4685-8436-6f4de2b1b798",
   "metadata": {},
   "outputs": [],
   "source": [
    "a = A(\"abc\")\n",
    "a.print_value()"
   ]
  },
  {
   "cell_type": "markdown",
   "id": "b2c7b287-c0ec-4fba-ba52-69aedfb3f9e5",
   "metadata": {},
   "source": [
    "11.  Define a class named `B`, whose `__init__` takes two parameters and stores one in a public attribute and the other in a private attribute named `this_is_public` and `__this_is_private` respectively. Check the class's ``__dict__``  attribute and find out the mangled name of the private attribute."
   ]
  },
  {
   "cell_type": "code",
   "execution_count": 47,
   "id": "887717c5-b8e6-4e4f-a389-167cc3ad2f90",
   "metadata": {
    "ExecuteTime": {
     "end_time": "2023-09-13T20:13:53.489698500Z",
     "start_time": "2023-09-13T20:13:53.477706700Z"
    }
   },
   "outputs": [
    {
     "name": "stdout",
     "output_type": "stream",
     "text": [
      "public_data\n",
      "private_data\n",
      "{'this_is_public': 'public_data', '_B__this_is_private': 'private_data'}\n"
     ]
    }
   ],
   "source": [
    "# YOUR CODE HERE\n",
    "class B:\n",
    "    def __init__(self, public_value, private_value):\n",
    "        self.this_is_public = public_value\n",
    "        self.__this_is_private = private_value\n",
    "\n",
    "# Create an instance of class B\n",
    "obj_b = B(\"public_data\", \"private_data\")\n",
    "\n",
    "# Accessing public attribute\n",
    "print(obj_b.this_is_public)  # Output: public_data\n",
    "\n",
    "# Accessing private attribute using mangled name\n",
    "print(obj_b._B__this_is_private)  # Output: private_data\n",
    "\n",
    "# Checking the __dict__ attribute\n",
    "print(obj_b.__dict__)\n",
    "#raise NotImplementedError()\n"
   ]
  },
  {
   "cell_type": "code",
   "execution_count": null,
   "id": "2890d450-5191-4dd0-91ef-4dc5f84b511c",
   "metadata": {},
   "outputs": [],
   "source": [
    "b = B(1, 2)\n",
    "assert b.this_is_public == 1\n",
    "try:\n",
    "    b.__this_is_private\n",
    "    print(\"This should not happen.\")\n",
    "except AttributeError:\n",
    "    print(\"Failed to access private attribute, this is good :)\")"
   ]
  },
  {
   "cell_type": "markdown",
   "id": "4197c752-3a45-4e48-a3e3-2fd8a8172387",
   "metadata": {},
   "source": [
    "13 . Inheritance\n",
    "\n",
    "###### Guess the output without running the cell."
   ]
  },
  {
   "cell_type": "code",
   "execution_count": null,
   "id": "2a142442-f03b-438d-bca6-3a2c7c16ab7e",
   "metadata": {},
   "outputs": [],
   "source": [
    "class A(object): pass\n",
    "class B(A): pass\n",
    "class C(A): pass\n",
    "class D(B): pass\n",
    "\n",
    "a = A()\n",
    "b = B()\n",
    "c = C()\n",
    "d = D()\n",
    "\n",
    "print(isinstance(a, object))True\n",
    "print(isinstance(b, object))True\n",
    "print(isinstance(a, B))False\n",
    "print(isinstance(b, A))True\n",
    "print(isinstance(d, A))True"
   ]
  },
  {
   "cell_type": "code",
   "execution_count": null,
   "id": "c637dbb5-1350-4fbd-bf2c-94f4a60d6e5a",
   "metadata": {},
   "outputs": [],
   "source": [
    "print(issubclass(C, object))True\n",
    "print(issubclass(D, B))True\n",
    "print(issubclass(B, D))False\n",
    "print(issubclass(B, B))True"
   ]
  },
  {
   "cell_type": "markdown",
   "id": "2dc2067d-f15e-424a-b5f1-9782cb8c7ee5",
   "metadata": {},
   "source": [
    "#### Create a Cat, a Dog, a Fish and a Eagle class.\n",
    "\n",
    "The animals have the following attributes:\n",
    "\n",
    "1. cats, dogs and eagles can make a sound (this should be a make_sound function that prints the animals sound),\n",
    "2. all animals have an age and a number_of_legs attribute,\n",
    "3. cats and dogs have a fur_color attribute. They can be instantiated with a single color or a list or tuple of colors.\n",
    "\n",
    "Use inheritance and avoid repeating code. Use default values in the constructors."
   ]
  },
  {
   "cell_type": "code",
   "execution_count": 45,
   "id": "58b41d3c-bc66-4e6a-bcc9-345814da6dd5",
   "metadata": {
    "ExecuteTime": {
     "end_time": "2023-09-13T20:12:46.242448200Z",
     "start_time": "2023-09-13T20:12:46.175555400Z"
    }
   },
   "outputs": [],
   "source": [
    "# YOUR CODE HERE\n",
    "class Animal:\n",
    "    def __init__(self,name,age=2,number_of_legs=4):\n",
    "        self.age = age\n",
    "        self.number_of_legs = number_of_legs\n",
    "        self.name = name\n",
    "\n",
    "class Eagle(Animal):\n",
    "    def __init__(self,name,age=1,number_of_legs=2,sound=\"kkkkkkkkkkkkkkkkkk\"):\n",
    "        self.sound = sound\n",
    "        super().__init__(name,age,number_of_legs)\n",
    "        \n",
    "    def make_sound(self):\n",
    "        print(self.sound)\n",
    "\n",
    "class Cat(Eagle):\n",
    "    def __init__(self,name,fur=None,age=3,number_of_legs=4,sound=\"pppppaaa\"):\n",
    "        self.fur = fur\n",
    "        super().__init__(name,age,number_of_legs,sound)\n",
    "        \n",
    "class Dog(Cat):\n",
    "    pass\n",
    "\n",
    "class Fish(Animal):\n",
    "    pass\n",
    "#raise NotImplementedError()"
   ]
  },
  {
   "cell_type": "code",
   "execution_count": 46,
   "id": "cf485478-8ccb-4ece-b411-25aeda370733",
   "metadata": {
    "ExecuteTime": {
     "end_time": "2023-09-13T20:12:54.905828300Z",
     "start_time": "2023-09-13T20:12:54.858908100Z"
    }
   },
   "outputs": [],
   "source": [
    "try:\n",
    "    cat = Cat(\"Fluffy\", age=3, fur=\"white\")\n",
    "    dog = Dog(\"Cherry\", age=1, fur=(\"white\", \"brown\", \"black\"))\n",
    "    fish = Fish(\"King\")\n",
    "    eagle = Eagle(\"Bruce\", age=2)\n",
    "    animals = [cat, dog, fish, eagle]\n",
    "except Exception as e:\n",
    "    print(f'Could not initialize an animal: {e}')"
   ]
  },
  {
   "cell_type": "markdown",
   "id": "05cce854-4ec1-4f38-8c59-a6a9d024a147",
   "metadata": {},
   "source": [
    "#### Numpy basic exercises\n",
    "\n",
    "Use vectorization and avoid for loops in all exercises. Implement each exercise as a single function.\n",
    "\n",
    "##### Implement standardization for 2D arrays.\n",
    "\n",
    "Standardization is defined as:\n",
    "\n",
    "\\begin{equation*}\n",
    "X_{std} = \\frac{X - \\mu}{\\sigma},\n",
    "\\end{equation*}\n",
    "\n",
    "where $\\mu$ is the mean of each row and $\\rho$ is the standard deviation of each column."
   ]
  },
  {
   "cell_type": "code",
   "execution_count": 55,
   "id": "b0a6e8bb-88de-4598-a7d9-e667d944d41a",
   "metadata": {
    "ExecuteTime": {
     "end_time": "2023-09-13T20:41:08.826251900Z",
     "start_time": "2023-09-13T20:41:08.778502700Z"
    }
   },
   "outputs": [
    {
     "ename": "IndentationError",
     "evalue": "unexpected indent (<ipython-input-55-0b0263a3ebb9>, line 4)",
     "output_type": "error",
     "traceback": [
      "\u001B[1;36m  File \u001B[1;32m\"<ipython-input-55-0b0263a3ebb9>\"\u001B[1;36m, line \u001B[1;32m4\u001B[0m\n\u001B[1;33m    standard_deviation = np.std(matrix, axis=0)\u001B[0m\n\u001B[1;37m    ^\u001B[0m\n\u001B[1;31mIndentationError\u001B[0m\u001B[1;31m:\u001B[0m unexpected indent\n"
     ]
    }
   ],
   "source": [
    "\n",
    "import numpy as np  \n",
    "def standardize(matrix):         \n",
    "   mean = np.mean(matrix, axis=1)     \n",
    "    standard_deviation = np.std(matrix, axis=0)     \n",
    "    standard_matrix = (matrix - mean[:, np.newaxis]) / standard_deviation     \n",
    "    return standard_matrix  \n",
    "    X_std = standardize(np.array([[1, 2], [2, 3], [1, 2]]))\n",
    "X_std\n",
    "\n",
    "    #raise NotImplementedError()\n",
    "\n",
    "X_std = standardize(np.array([[1, 2], [2, 3], [1, 2]]))\n",
    "X_std"
   ]
  },
  {
   "cell_type": "markdown",
   "id": "1b248a73-d899-475b-bac0-a17382dfefab",
   "metadata": {},
   "source": [
    "#### Implement normalization for 2D arrays.\n",
    "\n",
    "Normalization is defined as:\n",
    "\n",
    "\\begin{equation*}\n",
    "X_{norm} = \\frac{X - X_{min}}{X_{max} - X_{min}}\n",
    "\\end{equation*}"
   ]
  },
  {
   "cell_type": "code",
   "execution_count": 53,
   "id": "95841093-e7e7-4f28-94b5-a53a554cddfe",
   "metadata": {
    "ExecuteTime": {
     "end_time": "2023-09-13T20:38:07.751524600Z",
     "start_time": "2023-09-13T20:38:07.727390800Z"
    }
   },
   "outputs": [
    {
     "ename": "ModuleNotFoundError",
     "evalue": "No module named 'numpy'",
     "output_type": "error",
     "traceback": [
      "\u001B[1;31m---------------------------------------------------------------------------\u001B[0m",
      "\u001B[1;31mModuleNotFoundError\u001B[0m                       Traceback (most recent call last)",
      "\u001B[1;32m<ipython-input-53-16492ea19332>\u001B[0m in \u001B[0;36m<module>\u001B[1;34m\u001B[0m\n\u001B[1;32m----> 1\u001B[1;33m \u001B[1;32mimport\u001B[0m \u001B[0mnumpy\u001B[0m \u001B[1;32mas\u001B[0m \u001B[0mnp\u001B[0m\u001B[1;33m\u001B[0m\u001B[1;33m\u001B[0m\u001B[0m\n\u001B[0m\u001B[0;32m      2\u001B[0m \u001B[1;32mdef\u001B[0m \u001B[0mnormalize\u001B[0m\u001B[1;33m(\u001B[0m\u001B[0mmatrix\u001B[0m\u001B[1;33m)\u001B[0m\u001B[1;33m:\u001B[0m\u001B[1;33m\u001B[0m\u001B[1;33m\u001B[0m\u001B[0m\n\u001B[0;32m      3\u001B[0m     \u001B[0mmin_values\u001B[0m \u001B[1;33m=\u001B[0m \u001B[0mnp\u001B[0m\u001B[1;33m.\u001B[0m\u001B[0mmin\u001B[0m\u001B[1;33m(\u001B[0m\u001B[0mX\u001B[0m\u001B[1;33m,\u001B[0m \u001B[0maxis\u001B[0m\u001B[1;33m=\u001B[0m\u001B[1;36m0\u001B[0m\u001B[1;33m)\u001B[0m\u001B[1;33m\u001B[0m\u001B[1;33m\u001B[0m\u001B[0m\n\u001B[0;32m      4\u001B[0m     \u001B[0mmax_values\u001B[0m \u001B[1;33m=\u001B[0m \u001B[0mnp\u001B[0m\u001B[1;33m.\u001B[0m\u001B[0mmax\u001B[0m\u001B[1;33m(\u001B[0m\u001B[0mX\u001B[0m\u001B[1;33m,\u001B[0m \u001B[0maxis\u001B[0m\u001B[1;33m=\u001B[0m\u001B[1;36m0\u001B[0m\u001B[1;33m)\u001B[0m\u001B[1;33m\u001B[0m\u001B[1;33m\u001B[0m\u001B[0m\n\u001B[0;32m      5\u001B[0m     \u001B[0mnormalized_matrix\u001B[0m \u001B[1;33m=\u001B[0m \u001B[1;33m(\u001B[0m\u001B[0mmatrix\u001B[0m \u001B[1;33m-\u001B[0m \u001B[0mmin_values\u001B[0m\u001B[1;33m)\u001B[0m \u001B[1;33m/\u001B[0m \u001B[1;33m(\u001B[0m\u001B[0mmax_values\u001B[0m \u001B[1;33m-\u001B[0m \u001B[0mmin_values\u001B[0m\u001B[1;33m)\u001B[0m\u001B[1;33m\u001B[0m\u001B[1;33m\u001B[0m\u001B[0m\n",
      "\u001B[1;31mModuleNotFoundError\u001B[0m: No module named 'numpy'"
     ]
    }
   ],
   "source": [
    "import numpy as np \n",
    "def normalize(matrix):    \n",
    "    min_values = np.min(X, axis=0)     \n",
    "    max_values = np.max(X, axis=0)     \n",
    "    normalized_matrix = (matrix - min_values) / (max_values - min_values)      \n",
    "    return normalized_matrix  \n",
    "X = np.arange(6).reshape(2, 3) \n",
    "X[1, 2] = -5 \n",
    "print(X)\n",
    "normalize(X)\n",
    "    \n",
    "X = np.arange(6).reshape(2, 3)\n",
    "X[1, 2] = -5\n",
    "print(X)\n",
    "normalize(X)"
   ]
  },
  {
   "cell_type": "code",
   "execution_count": 54,
   "id": "75fe2509-9e4a-45aa-8f41-e2dd6290d81a",
   "metadata": {
    "ExecuteTime": {
     "end_time": "2023-09-13T20:38:26.014717600Z",
     "start_time": "2023-09-13T20:38:25.997740400Z"
    }
   },
   "outputs": [
    {
     "ename": "NameError",
     "evalue": "name 'np' is not defined",
     "output_type": "error",
     "traceback": [
      "\u001B[1;31m---------------------------------------------------------------------------\u001B[0m",
      "\u001B[1;31mNameError\u001B[0m                                 Traceback (most recent call last)",
      "\u001B[1;32m<ipython-input-54-7c502a2a9a75>\u001B[0m in \u001B[0;36m<module>\u001B[1;34m\u001B[0m\n\u001B[1;32m----> 1\u001B[1;33m answer = np.array(\n\u001B[0m\u001B[0;32m      2\u001B[0m     [[0., 0., 1.],\n\u001B[0;32m      3\u001B[0m      [1., 1., 0.]]\n\u001B[0;32m      4\u001B[0m )\n\u001B[0;32m      5\u001B[0m \u001B[0mX_norm\u001B[0m \u001B[1;33m=\u001B[0m \u001B[0mnormalize\u001B[0m\u001B[1;33m(\u001B[0m\u001B[0mX\u001B[0m\u001B[1;33m)\u001B[0m\u001B[1;33m\u001B[0m\u001B[1;33m\u001B[0m\u001B[0m\n",
      "\u001B[1;31mNameError\u001B[0m: name 'np' is not defined"
     ]
    }
   ],
   "source": [
    "answer = np.array(\n",
    "    [[0., 0., 1.],\n",
    "     [1., 1., 0.]]\n",
    ")\n",
    "X_norm = normalize(X)\n",
    "assert np.allclose(X_norm, answer)"
   ]
  },
  {
   "cell_type": "code",
   "execution_count": null,
   "outputs": [],
   "source": [],
   "metadata": {
    "collapsed": false
   },
   "id": "fe0254559b5f8e77"
  }
 ],
 "metadata": {
  "kernelspec": {
   "display_name": "Python 3 (ipykernel)",
   "language": "python",
   "name": "python3"
  },
  "language_info": {
   "codemirror_mode": {
    "name": "ipython",
    "version": 3
   },
   "file_extension": ".py",
   "mimetype": "text/x-python",
   "name": "python",
   "nbconvert_exporter": "python",
   "pygments_lexer": "ipython3",
   "version": "3.9.13"
  }
 },
 "nbformat": 4,
 "nbformat_minor": 5
}
